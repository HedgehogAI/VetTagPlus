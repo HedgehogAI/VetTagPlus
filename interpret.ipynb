{
 "cells": [
  {
   "cell_type": "code",
   "execution_count": 2,
   "metadata": {},
   "outputs": [],
   "source": [
    "import torch\n",
    "import torch.nn as nn\n",
    "from torch.autograd import Variable\n",
    "from transformer import *\n",
    "from util import *\n",
    "from data import *\n",
    "import matplotlib.pyplot as plt\n",
    "from heatmap import html_heatmap\n",
    "from IPython.display import display, HTML"
   ]
  },
  {
   "cell_type": "code",
   "execution_count": 3,
   "metadata": {},
   "outputs": [],
   "source": [
    "train, valid, test = get_dis('/home/yuhuiz/Transformer/data/csu/', 'csu_bpe', 'csu', 600, False)\n",
    "text_encoder = TextEncoder('/home/yuhuiz/Transformer/data/sage/encoder_bpe_50000.json', '/home/yuhuiz/Transformer/data/sage/vocab_50000.bpe')\n",
    "encoder = text_encoder.encoder\n",
    "encoder['_pad_'] = len(encoder)\n",
    "encoder['_start_'] = len(encoder)\n",
    "encoder['_end_'] = len(encoder)\n",
    "encoder['_unk_'] = len(encoder)\n",
    "decoder = {v: k for k, v in encoder.items()}\n",
    "\n",
    "for split in ['s1']:\n",
    "    for data_type in ['train', 'valid', 'test']:\n",
    "        num_sents = []\n",
    "        y_sents = []\n",
    "        for sent in eval(data_type)[split]:\n",
    "            num_sent = text_encoder.encode([sent], lazy=True, bpe=False)[0]\n",
    "            num_sents.append([encoder['_start_']] + num_sent + [encoder['_end_']])\n",
    "        eval(data_type)[split] = np.array(num_sents)"
   ]
  },
  {
   "cell_type": "code",
   "execution_count": 11,
   "metadata": {},
   "outputs": [],
   "source": [
    "# good example [(16, 39), (47, 26), (21, 38), (21, 40), ]\n",
    "def interpret_transformer(sample_idx, label_idx, silent=True, threshold=None):\n",
    "    # model\n",
    "    model = torch.load('/home/yuhuiz/Transformer/exp/bpe/transformer_auxiliary_pretrain/model-8.pickle', map_location='cpu')\n",
    "    model.eval()\n",
    "\n",
    "    s1 = test['s1'] # test or valid\n",
    "    target = test['label'] # test or valid\n",
    "\n",
    "    # data\n",
    "    s1_batch = pad_batch(s1[sample_idx:sample_idx+1], encoder['_pad_'])\n",
    "    label_batch = target[sample_idx:sample_idx+1]\n",
    "    b = Batch(s1_batch, label_batch, [], encoder['_pad_'])\n",
    "\n",
    "    # interpret\n",
    "    x = model.tgt_embed[0](b.s1)\n",
    "    xx = model.tgt_embed[1](x)\n",
    "    u_h = model.decoder(xx, b.s1_mask)\n",
    "    u = model.pick_h(u_h, b.s1_lengths)\n",
    "    picked_s1_mask = model.pick_mask(b.s1_mask, b.s1_lengths)\n",
    "    u = model.projection_layer(u, u_h, u_h, picked_s1_mask)\n",
    "    clf_output = model.classifier(u)\n",
    "    pred = (torch.sigmoid(clf_output) > 0.5)\n",
    "    y = clf_output[0][label_idx]\n",
    "    model.zero_grad()\n",
    "    grad = x * torch.autograd.grad(y, x)[0]\n",
    "\n",
    "    # visualize\n",
    "    grad = grad.sum(-1).data.squeeze().numpy()\n",
    "    if threshold != None:\n",
    "        grad = grad * (grad > threshold)\n",
    "    grad = grad.tolist()\n",
    "    \n",
    "    text_id = b.s1.squeeze().numpy().tolist()\n",
    "    text = [decoder[i] for i in text_id]\n",
    "    label = get_labels('csu')\n",
    "    if not silent:\n",
    "        print('logits =', clf_output.squeeze())\n",
    "        print('pred =', pred.squeeze().nonzero().squeeze().numpy().tolist())\n",
    "        print('pred =', [label[i] for i in pred.squeeze().nonzero().squeeze().numpy().tolist()])\n",
    "        print('label =', b.label.squeeze().nonzero().squeeze().numpy().tolist())\n",
    "        print('label =', [label[i] for i in b.label.squeeze().nonzero().squeeze().numpy().tolist()])\n",
    "    display(HTML(html_heatmap(text[1:], grad[1:])))\n",
    "    return grad[1:]"
   ]
  },
  {
   "cell_type": "code",
   "execution_count": 4,
   "metadata": {},
   "outputs": [],
   "source": [
    "def interpret_lstm(sample_idx, label_idx, silent=True):\n",
    "    # model\n",
    "    model = torch.load('/home/yuhuiz/Transformer/exp/bpe/lstm_auxiliary_pretrain/model-8.pickle', map_location='cpu')\n",
    "    model.eval()\n",
    "\n",
    "    s1 = test['s1'] # test or valid\n",
    "    target = test['label'] # test or valid\n",
    "\n",
    "    # data\n",
    "    s1_batch = pad_batch(s1[sample_idx:sample_idx+1], encoder['_pad_'])\n",
    "    label_batch = target[sample_idx:sample_idx+1]\n",
    "    b = Batch(s1_batch, label_batch, [], encoder['_pad_'])\n",
    "\n",
    "    # interpret\n",
    "    x = model.tgt_embed[0](b.s1)\n",
    "    xx = model.tgt_embed[1](x)\n",
    "    u_h = model.autolen_rnn(xx, b.s1_lengths)\n",
    "    u = model.pick_h(u_h, b.s1_lengths)\n",
    "    picked_s1_mask = model.pick_mask(b.s1_mask, b.s1_lengths)\n",
    "    u = model.projection_layer(u, u_h, u_h, picked_s1_mask)\n",
    "    clf_output = model.classifier(u)\n",
    "    pred = (torch.sigmoid(clf_output) > 0.5)\n",
    "    y = clf_output[0][label_idx]\n",
    "    model.zero_grad()\n",
    "    grad = x * torch.autograd.grad(y, x)[0]\n",
    "\n",
    "    # visualize\n",
    "    grad = grad.sum(-1).data.squeeze().numpy().tolist()\n",
    "    text_id = b.s1.squeeze().numpy().tolist()\n",
    "    text = [decoder[i] for i in text_id]\n",
    "    label = get_labels('csu')\n",
    "    if not silent:\n",
    "        print('logits =', clf_output.squeeze())\n",
    "        print('pred =', pred.squeeze().nonzero().squeeze().numpy().tolist())\n",
    "        print('pred =', [label[i] for i in pred.squeeze().nonzero().squeeze().numpy().tolist()])\n",
    "        print('label =', b.label.squeeze().nonzero().squeeze().numpy().tolist())\n",
    "        print('label =', [label[i] for i in b.label.squeeze().nonzero().squeeze().numpy().tolist()])\n",
    "    display(HTML(html_heatmap(text[1:], grad[1:])))"
   ]
  },
  {
   "cell_type": "code",
   "execution_count": 50,
   "metadata": {
    "scrolled": false
   },
   "outputs": [
    {
     "name": "stderr",
     "output_type": "stream",
     "text": [
      "/usr/local/lib/python3.6/dist-packages/torch/serialization.py:367: SourceChangeWarning: source code of class 'transformer.DisSentT' has changed. you can retrieve the original source code by accessing the object's source attribute or set `torch.nn.Module.dump_patches = True` and use the patch tool to revert the changes.\n",
      "  warnings.warn(msg, SourceChangeWarning)\n",
      "/usr/local/lib/python3.6/dist-packages/torch/serialization.py:367: SourceChangeWarning: source code of class 'transformer.Embeddings' has changed. you can retrieve the original source code by accessing the object's source attribute or set `torch.nn.Module.dump_patches = True` and use the patch tool to revert the changes.\n",
      "  warnings.warn(msg, SourceChangeWarning)\n"
     ]
    },
    {
     "name": "stdout",
     "output_type": "stream",
     "text": [
      "logits = tensor([-20.8378, -21.5276, -23.8320, -19.5886, -22.4604, -19.8303,\n",
      "        -15.6121, -13.0109,  -8.2454, -10.8694, -13.7676, -11.2597,\n",
      "        -10.3694, -10.3137, -10.3378, -11.1997, -12.3948,  -8.7677,\n",
      "         -6.6800,  -9.7164,  -7.5695,  -6.9427,  -7.1161,  -4.0851,\n",
      "         -4.2640,  -8.8342,  -5.2651,  -2.5420, -11.1271,  -5.5666,\n",
      "         -5.3394,  -3.7404,   0.0310,  -6.8903,  -3.0774, -10.0354,\n",
      "         -2.5648,  -5.6260,   7.1943,  -4.3723,   5.5315,  10.3627])\n",
      "pred = [32, 38, 40, 41]\n",
      "pred = ['Traumatic AND/OR non-traumatic injury (disorder)', 'Disorder of integument (disorder)', 'Neoplasm and/or hamartoma (disorder)', 'Clinical finding (finding)']\n",
      "label = [32, 34, 38, 40, 41]\n",
      "label = ['Traumatic AND/OR non-traumatic injury (disorder)', 'Infectious disease (disorder)', 'Disorder of integument (disorder)', 'Neoplasm and/or hamartoma (disorder)', 'Clinical finding (finding)']\n"
     ]
    },
    {
     "data": {
      "text/html": [
       "<span style=\"background-color:#f0f0ff\">otto</span> <span style=\"background-color:#fafaff\">,</span> <span style=\"background-color:#fff6f6\">a</span> <span style=\"background-color:#f3f3ff\">6.5</span> <span style=\"background-color:#f2f2ff\">year</span> <span style=\"background-color:#f3f3ff\">old</span> <span style=\"background-color:#ffe6e6\">male</span> <span style=\"background-color:#cacaff\">castrated</span> <span style=\"background-color:#dcdcff\">boxer</span> <span style=\"background-color:#fcfcff\">,</span> <span style=\"background-color:#fff8f8\">was</span> <span style=\"background-color:#fff0f0\">presented</span> <span style=\"background-color:#fff6f6\">to</span> <span style=\"background-color:#f3f3ff\">the</span> <span style=\"background-color:#f6f6ff\">csu</span> <span style=\"background-color:#c8c8ff\">oncology</span> <span style=\"background-color:#fff2f2\">service</span> <span style=\"background-color:#fefeff\">on</span> <span style=\"background-color:#f2f2ff\">7/10/17</span> <span style=\"background-color:#ffeaea\">for</span> <span style=\"background-color:#ffcece\">continued</span> <span style=\"background-color:#6868ff\">vinblastine</span> <span style=\"background-color:#dedeff\">chemotherapy</span> <span style=\"background-color:#ffacac\">for</span> <span style=\"background-color:#8383ff\">mast</span> <span style=\"background-color:#fffcfc\">cell</span> <span style=\"background-color:#ffdede\">tumors</span> <span style=\"background-color:#ff0000\">.</span> <span style=\"background-color:#fffafa\">otto</span> <span style=\"background-color:#f2f2ff\">has</span> <span style=\"background-color:#ffd0d0\">been</span> <span style=\"background-color:#fefeff\">doing</span> <span style=\"background-color:#f3f3ff\">well</span> <span style=\"background-color:#f2f2ff\">at</span> <span style=\"background-color:#dedeff\">home</span> <span style=\"background-color:#ffeaea\">.</span> <span style=\"background-color:#f2f2ff\">two</span> <span style=\"background-color:#fff4f4\">weeks</span> <span style=\"background-color:#fffcfc\">ago</span> <span style=\"background-color:#fffefe\">,</span> <span style=\"background-color:#fffefe\">his</span> <span style=\"background-color:#fffefe\">owners</span> <span style=\"background-color:#f8f8ff\">noted</span> <span style=\"background-color:#fffefe\">that</span> <span style=\"background-color:#fffcfc\">he</span> <span style=\"background-color:#fff8f8\">developed</span> <span style=\"background-color:#fffefe\">a</span> <span style=\"background-color:#ececff\">swelling</span> <span style=\"background-color:#fffefe\">to</span> <span style=\"background-color:#f6f6ff\">the</span> <span style=\"background-color:#fefeff\">left</span> <span style=\"background-color:#fffefe\">of</span> <span style=\"background-color:#e6e6ff\">his</span> <span style=\"background-color:#d8d8ff\">prepuce</span> <span style=\"background-color:#ff8c8c\">,</span> <span style=\"background-color:#fffafa\">however</span> <span style=\"background-color:#fefeff\">cytology</span> <span style=\"background-color:#fefeff\">of</span> <span style=\"background-color:#fefeff\">this</span> <span style=\"background-color:#fffcfc\">area</span> <span style=\"background-color:#fefeff\">revealed</span> <span style=\"background-color:#fffcfc\">only</span> <span style=\"background-color:#fffefe\">fat</span> <span style=\"background-color:#fff8f8\">.</span> <span style=\"background-color:#fffafa\">he</span> <span style=\"background-color:#fffafa\">has</span> <span style=\"background-color:#e0e0ff\">been</span> <span style=\"background-color:#fafaff\">eating</span> <span style=\"background-color:#fffcfc\">and</span> <span style=\"background-color:#fcfcff\">drinking</span> <span style=\"background-color:#fffefe\">normally</span> <span style=\"background-color:#fcfcff\">with</span> <span style=\"background-color:#fefeff\">a</span> <span style=\"background-color:#fcfcff\">good</span> <span style=\"background-color:#fefeff\">energy</span> <span style=\"background-color:#fcfcff\">level</span> <span style=\"background-color:#ffeaea\">.</span> <span style=\"background-color:#fefeff\">he</span> <span style=\"background-color:#fefeff\">has</span> <span style=\"background-color:#fcfcff\">not</span> <span style=\"background-color:#f8f8ff\">exhibited</span> <span style=\"background-color:#fcfcff\">any</span> <span style=\"background-color:#fcfcff\">vomiting</span> <span style=\"background-color:#fffefe\">,</span> <span style=\"background-color:#fefeff\">diarrhea</span> <span style=\"background-color:#f6f6ff\">or</span> <span style=\"background-color:#fffafa\">coughing</span> <span style=\"background-color:#fffafa\">.</span> <span style=\"background-color:#fffafa\">current</span> <span style=\"background-color:#fefeff\">medications</span> <span style=\"background-color:#fff6f6\">:</span> <span style=\"background-color:#c2c2ff\">prednisolone</span> <span style=\"background-color:#fcfcff\">30</span> <span style=\"background-color:#fcfcff\">mg</span> <span style=\"background-color:#fcfcff\">eod</span> <span style=\"background-color:#fcfcff\">assessment</span> <span style=\"background-color:#fffcfc\">:</span> <span style=\"background-color:#fcfcff\">otto</span> <span style=\"background-color:#fffcfc\">is</span> <span style=\"background-color:#fafaff\">doing</span> <span style=\"background-color:#fffcfc\">well</span> <span style=\"background-color:#fcfcff\">and</span> <span style=\"background-color:#f2f2ff\">looked</span> <span style=\"background-color:#fefeff\">good</span> <span style=\"background-color:#fefeff\">on</span> <span style=\"background-color:#fcfcff\">physical</span> <span style=\"background-color:#fcfcff\">exam</span> <span style=\"background-color:#fcfcff\">with</span> <span style=\"background-color:#fffefe\">only</span> <span style=\"background-color:#fffcfc\">fat</span> <span style=\"background-color:#fffafa\">palpated</span> <span style=\"background-color:#fff8f8\">in</span> <span style=\"background-color:#fff6f6\">his</span> <span style=\"background-color:#ffd8d8\">inguinal/@@</span> <span style=\"background-color:#ffe6e6\">preputial</span> <span style=\"background-color:#fffefe\">region</span> <span style=\"background-color:#fffcfc\">.</span> <span style=\"background-color:#fff4f4\">a</span> <span style=\"background-color:#ffe6e6\">cbc</span> <span style=\"background-color:#ffe4e4\">was</span> <span style=\"background-color:#fffcfc\">within</span> <span style=\"background-color:#ffecec\">normal</span> <span style=\"background-color:#fff2f2\">limits</span> <span style=\"background-color:#cacaff\">,</span> <span style=\"background-color:#fff0f0\">therefore</span> <span style=\"background-color:#fff8f8\">he</span> <span style=\"background-color:#ffe4e4\">received</span> <span style=\"background-color:#ffecec\">his</span> <span style=\"background-color:#fff2f2\">6th</span> <span style=\"background-color:#fefeff\">dose</span> <span style=\"background-color:#fff6f6\">of</span> <span style=\"background-color:#b3b3ff\">vinblastine</span> <span style=\"background-color:#ffdada\">without</span> <span style=\"background-color:#d6d6ff\">incident</span> <span style=\"background-color:#fff8f8\">.</span> \n"
      ],
      "text/plain": [
       "<IPython.core.display.HTML object>"
      ]
     },
     "metadata": {},
     "output_type": "display_data"
    },
    {
     "name": "stdout",
     "output_type": "stream",
     "text": [
      "None\n"
     ]
    }
   ],
   "source": [
    "# [9]\n",
    "grad = interpret_transformer(271, 28, silent=False, threshold=None)\n",
    "print(grad)\n",
    "# interpret_lstm(47, 26, silent=False)"
   ]
  },
  {
   "cell_type": "code",
   "execution_count": null,
   "metadata": {},
   "outputs": [],
   "source": []
  }
 ],
 "metadata": {
  "kernelspec": {
   "display_name": "Python 3",
   "language": "python",
   "name": "python3"
  },
  "language_info": {
   "codemirror_mode": {
    "name": "ipython",
    "version": 3
   },
   "file_extension": ".py",
   "mimetype": "text/x-python",
   "name": "python",
   "nbconvert_exporter": "python",
   "pygments_lexer": "ipython3",
   "version": "3.6.6"
  }
 },
 "nbformat": 4,
 "nbformat_minor": 2
}
