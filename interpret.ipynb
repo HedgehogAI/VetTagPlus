{
 "cells": [
  {
   "cell_type": "code",
   "execution_count": 1,
   "metadata": {},
   "outputs": [],
   "source": [
    "import torch\n",
    "import torch.nn as nn\n",
    "from torch.autograd import Variable\n",
    "from transformer import *\n",
    "from util import *\n",
    "from data import *\n",
    "import matplotlib.pyplot as plt\n",
    "from heatmap import html_heatmap\n",
    "from IPython.display import display, HTML"
   ]
  },
  {
   "cell_type": "code",
   "execution_count": 2,
   "metadata": {},
   "outputs": [],
   "source": [
    "train, valid, test = get_dis('/home/yuhuiz/Transformer/data/csu/', 'csu_bpe', 'csu', 600, False)\n",
    "text_encoder = TextEncoder('/home/yuhuiz/Transformer/data/sage/encoder_bpe_50000.json', '/home/yuhuiz/Transformer/data/sage/vocab_50000.bpe')\n",
    "encoder = text_encoder.encoder\n",
    "encoder['_pad_'] = len(encoder)\n",
    "encoder['_start_'] = len(encoder)\n",
    "encoder['_end_'] = len(encoder)\n",
    "encoder['_unk_'] = len(encoder)\n",
    "decoder = {v: k for k, v in encoder.items()}\n",
    "\n",
    "for split in ['s1']:\n",
    "    for data_type in ['train', 'valid', 'test']:\n",
    "        num_sents = []\n",
    "        y_sents = []\n",
    "        for sent in eval(data_type)[split]:\n",
    "            num_sent = text_encoder.encode([sent], lazy=True, bpe=False)[0]\n",
    "            num_sents.append([encoder['_start_']] + num_sent + [encoder['_end_']])\n",
    "        eval(data_type)[split] = np.array(num_sents)"
   ]
  },
  {
   "cell_type": "code",
   "execution_count": 3,
   "metadata": {},
   "outputs": [],
   "source": [
    "# good example [(16, 39), (47, 26), (21, 38), (21, 40), ]\n",
    "def interpret_transformer(sample_idx, label_idx, silent=True):\n",
    "    # model\n",
    "    model = torch.load('/home/yuhuiz/Transformer/exp/bpe/transformer_auxiliary_pretrain/model-8.pickle', map_location='cpu')\n",
    "    model.eval()\n",
    "\n",
    "    s1 = test['s1'] # test or valid\n",
    "    target = test['label'] # test or valid\n",
    "\n",
    "    # data\n",
    "    s1_batch = pad_batch(s1[sample_idx:sample_idx+1], encoder['_pad_'])\n",
    "    label_batch = target[sample_idx:sample_idx+1]\n",
    "    b = Batch(s1_batch, label_batch, [], encoder['_pad_'])\n",
    "\n",
    "    # interpret\n",
    "    x = model.tgt_embed[0](b.s1)\n",
    "    xx = model.tgt_embed[1](x)\n",
    "    u_h = model.decoder(xx, b.s1_mask)\n",
    "    u = model.pick_h(u_h, b.s1_lengths)\n",
    "    picked_s1_mask = model.pick_mask(b.s1_mask, b.s1_lengths)\n",
    "    u = model.projection_layer(u, u_h, u_h, picked_s1_mask)\n",
    "    clf_output = model.classifier(u)\n",
    "    pred = (torch.sigmoid(clf_output) > 0.5)\n",
    "    y = clf_output[0][label_idx]\n",
    "    model.zero_grad()\n",
    "    grad = x * torch.autograd.grad(y, x)[0]\n",
    "\n",
    "    # visualize\n",
    "    grad = grad.sum(-1).data.squeeze().numpy().tolist()\n",
    "    text_id = b.s1.squeeze().numpy().tolist()\n",
    "    text = [decoder[i] for i in text_id]\n",
    "    label = get_labels('csu')\n",
    "    if not silent:\n",
    "        print('logits =', clf_output.squeeze())\n",
    "        print('pred =', pred.squeeze().nonzero().squeeze().numpy().tolist())\n",
    "        print('pred =', [label[i] for i in pred.squeeze().nonzero().squeeze().numpy().tolist()])\n",
    "        print('label =', b.label.squeeze().nonzero().squeeze().numpy().tolist())\n",
    "        print('label =', [label[i] for i in b.label.squeeze().nonzero().squeeze().numpy().tolist()])\n",
    "    display(HTML(html_heatmap(text[1:], grad[1:])))"
   ]
  },
  {
   "cell_type": "code",
   "execution_count": 4,
   "metadata": {},
   "outputs": [],
   "source": [
    "def interpret_lstm(sample_idx, label_idx, silent=True):\n",
    "    # model\n",
    "    model = torch.load('/home/yuhuiz/Transformer/exp/bpe/lstm_auxiliary_pretrain/model-8.pickle', map_location='cpu')\n",
    "    model.eval()\n",
    "\n",
    "    s1 = test['s1'] # test or valid\n",
    "    target = test['label'] # test or valid\n",
    "\n",
    "    # data\n",
    "    s1_batch = pad_batch(s1[sample_idx:sample_idx+1], encoder['_pad_'])\n",
    "    label_batch = target[sample_idx:sample_idx+1]\n",
    "    b = Batch(s1_batch, label_batch, [], encoder['_pad_'])\n",
    "\n",
    "    # interpret\n",
    "    x = model.tgt_embed[0](b.s1)\n",
    "    xx = model.tgt_embed[1](x)\n",
    "    u_h = model.autolen_rnn(xx, b.s1_lengths)\n",
    "    u = model.pick_h(u_h, b.s1_lengths)\n",
    "    picked_s1_mask = model.pick_mask(b.s1_mask, b.s1_lengths)\n",
    "    u = model.projection_layer(u, u_h, u_h, picked_s1_mask)\n",
    "    clf_output = model.classifier(u)\n",
    "    pred = (torch.sigmoid(clf_output) > 0.5)\n",
    "    y = clf_output[0][label_idx]\n",
    "    model.zero_grad()\n",
    "    grad = x * torch.autograd.grad(y, x)[0]\n",
    "\n",
    "    # visualize\n",
    "    grad = grad.sum(-1).data.squeeze().numpy().tolist()\n",
    "    text_id = b.s1.squeeze().numpy().tolist()\n",
    "    text = [decoder[i] for i in text_id]\n",
    "    label = get_labels('csu')\n",
    "    if not silent:\n",
    "        print('logits =', clf_output.squeeze())\n",
    "        print('pred =', pred.squeeze().nonzero().squeeze().numpy().tolist())\n",
    "        print('pred =', [label[i] for i in pred.squeeze().nonzero().squeeze().numpy().tolist()])\n",
    "        print('label =', b.label.squeeze().nonzero().squeeze().numpy().tolist())\n",
    "        print('label =', [label[i] for i in b.label.squeeze().nonzero().squeeze().numpy().tolist()])\n",
    "    display(HTML(html_heatmap(text[1:], grad[1:])))"
   ]
  },
  {
   "cell_type": "code",
   "execution_count": 6,
   "metadata": {
    "scrolled": false
   },
   "outputs": [
    {
     "name": "stderr",
     "output_type": "stream",
     "text": [
      "/usr/local/lib/python3.6/dist-packages/torch/serialization.py:367: SourceChangeWarning: source code of class 'transformer.DisSentT' has changed. you can retrieve the original source code by accessing the object's source attribute or set `torch.nn.Module.dump_patches = True` and use the patch tool to revert the changes.\n",
      "  warnings.warn(msg, SourceChangeWarning)\n",
      "/usr/local/lib/python3.6/dist-packages/torch/serialization.py:367: SourceChangeWarning: source code of class 'transformer.Embeddings' has changed. you can retrieve the original source code by accessing the object's source attribute or set `torch.nn.Module.dump_patches = True` and use the patch tool to revert the changes.\n",
      "  warnings.warn(msg, SourceChangeWarning)\n"
     ]
    },
    {
     "name": "stdout",
     "output_type": "stream",
     "text": [
      "logits = tensor([-15.8784, -17.1387, -14.8995, -15.5421, -15.3664, -15.9373,\n",
      "        -14.7549, -12.1735, -10.4198, -10.1664, -11.0308, -11.1979,\n",
      "        -11.5704, -10.9385,  -8.3562,  -5.7506,  -5.3576,  -9.3167,\n",
      "        -11.0783,  -7.6009,  -8.8532,  -7.9168,  -4.7730,   8.4960,\n",
      "         -6.7209,  -0.1891,   8.5590,  -7.2602, -10.5429,  -7.0183,\n",
      "         -5.5561,  -7.4463,  -6.0965,  -6.9961,  -2.9750,  -9.2255,\n",
      "         -6.2264,  -7.4816,   5.0928,  -4.2168,  -6.5594,   6.6768])\n",
      "pred = [23, 26, 38, 41]\n",
      "pred = ['Propensity to adverse reactions (disorder)', 'Hypersensitivity condition (disorder)', 'Disorder of integument (disorder)', 'Clinical finding (finding)']\n",
      "label = [23, 26, 38, 41]\n",
      "label = ['Propensity to adverse reactions (disorder)', 'Hypersensitivity condition (disorder)', 'Disorder of integument (disorder)', 'Clinical finding (finding)']\n"
     ]
    },
    {
     "data": {
      "text/html": [
       "<span style=\"background-color:#a8a8ff\">deacon</span> <span style=\"background-color:#fffafa\">,</span> <span style=\"background-color:#fff0f0\">a</span> <span style=\"background-color:#ececff\">2</span> <span style=\"background-color:#d2d2ff\">year</span> <span style=\"background-color:#fffafa\">old</span> <span style=\"background-color:#fcfcff\">male</span> <span style=\"background-color:#ffeaea\">neutered</span> <span style=\"background-color:#f2f2ff\">boxer</span> <span style=\"background-color:#fff8f8\">,</span> <span style=\"background-color:#fff2f2\">presented</span> <span style=\"background-color:#eeeeff\">to</span> <span style=\"background-color:#fefeff\">csu</span> <span style=\"background-color:#fffefe\">dermatology</span> <span style=\"background-color:#f0f0ff\">service</span> <span style=\"background-color:#fafaff\">for</span> <span style=\"background-color:#fefeff\">a</span> <span style=\"background-color:#ececff\">recheck</span> <span style=\"background-color:#e3e3ff\">of</span> <span style=\"background-color:#ff5e5e\">allergic</span> <span style=\"background-color:#ff0e0e\">dermatitis</span> <span style=\"background-color:#a0a0ff\">.</span> <span style=\"background-color:#fff4f4\">it</span> <span style=\"background-color:#fffefe\">was</span> <span style=\"background-color:#e6e6ff\">reported</span> <span style=\"background-color:#fefeff\">that</span> <span style=\"background-color:#6969ff\">deacon</span> <span style=\"background-color:#fffcfc\">'s</span> <span style=\"background-color:#ffd0d0\">pruritus</span> <span style=\"background-color:#f2f2ff\">is</span> <span style=\"background-color:#fefeff\">relatively</span> <span style=\"background-color:#fff6f6\">seasonal</span> <span style=\"background-color:#e8e8ff\">,</span> <span style=\"background-color:#ffe8e8\">worse</span> <span style=\"background-color:#fffafa\">in</span> <span style=\"background-color:#fcfcff\">the</span> <span style=\"background-color:#fff8f8\">spring</span> <span style=\"background-color:#f2f2ff\">and</span> <span style=\"background-color:#fff8f8\">summer</span> <span style=\"background-color:#b0b0ff\">,</span> <span style=\"background-color:#fefeff\">but</span> <span style=\"background-color:#fcfcff\">does</span> <span style=\"background-color:#fefeff\">not</span> <span style=\"background-color:#fffefe\">completely</span> <span style=\"background-color:#fffefe\">go</span> <span style=\"background-color:#fcfcff\">away</span> <span style=\"background-color:#fffcfc\">in</span> <span style=\"background-color:#f3f3ff\">the</span> <span style=\"background-color:#fefeff\">winter</span> <span style=\"background-color:#eaeaff\">.</span> <span style=\"background-color:#8a8aff\">deacon</span> <span style=\"background-color:#fffefe\">'s</span> <span style=\"background-color:#eaeaff\">main</span> <span style=\"background-color:#f3f3ff\">problem</span> <span style=\"background-color:#ffd8d8\">areas</span> <span style=\"background-color:#fffcfc\">were</span> <span style=\"background-color:#fffcfc\">his</span> <span style=\"background-color:#ffd2d2\">paws</span> <span style=\"background-color:#eeeeff\">and</span> <span style=\"background-color:#fcfcff\">his</span> <span style=\"background-color:#ffecec\">muzzle</span> <span style=\"background-color:#d6d6ff\">.</span> <span style=\"background-color:#ffeaea\">melissa</span> <span style=\"background-color:#fff4f4\">recently</span> <span style=\"background-color:#fefeff\">had</span> <span style=\"background-color:#ffeeee\">been</span> <span style=\"background-color:#fefeff\">adding</span> <span style=\"background-color:#fffcfc\">ne@@</span> <span style=\"background-color:#fffefe\">ttles</span> <span style=\"background-color:#fefeff\">to</span> <span style=\"background-color:#fafaff\">deacon</span> <span style=\"background-color:#fafaff\">'s</span> <span style=\"background-color:#fff6f6\">food</span> <span style=\"background-color:#f6f6ff\">and</span> <span style=\"background-color:#fffcfc\">saw</span> <span style=\"background-color:#fefeff\">a</span> <span style=\"background-color:#fefeff\">noticeable</span> <span style=\"background-color:#fafaff\">decrease</span> <span style=\"background-color:#fffefe\">in</span> <span style=\"background-color:#fff0f0\">pruritus</span> <span style=\"background-color:#fffcfc\">for</span> <span style=\"background-color:#fafaff\">a</span> <span style=\"background-color:#fefeff\">few</span> <span style=\"background-color:#fefeff\">days</span> <span style=\"background-color:#fcfcff\">but</span> <span style=\"background-color:#fff6f6\">not</span> <span style=\"background-color:#fefeff\">so</span> <span style=\"background-color:#fffcfc\">much</span> <span style=\"background-color:#fff8f8\">anymore</span> <span style=\"background-color:#f3f3ff\">.</span> <span style=\"background-color:#fffcfc\">melissa</span> <span style=\"background-color:#fcfcff\">was</span> <span style=\"background-color:#f0f0ff\">not</span> <span style=\"background-color:#eaeaff\">interested</span> <span style=\"background-color:#fffefe\">in</span> <span style=\"background-color:#f8f8ff\">steroids</span> <span style=\"background-color:#fafaff\">or</span> <span style=\"background-color:#f6f6ff\">immunotherapy</span> <span style=\"background-color:#fefeff\">to</span> <span style=\"background-color:#fffefe\">control</span> <span style=\"background-color:#f6f6ff\">the</span> <span style=\"background-color:#ffecec\">pruritus</span> <span style=\"background-color:#fff6f6\">and</span> <span style=\"background-color:#e0e0ff\">was</span> <span style=\"background-color:#e8e8ff\">hoping</span> <span style=\"background-color:#fff8f8\">to</span> <span style=\"background-color:#fffefe\">start</span> <span style=\"background-color:#ffecec\">apoquel</span> <span style=\"background-color:#fff6f6\">for</span> <span style=\"background-color:#fefeff\">deacon</span> <span style=\"background-color:#d3d3ff\">.</span> <span style=\"background-color:#fff6f6\">current</span> <span style=\"background-color:#ffeaea\">medications</span> <span style=\"background-color:#fafaff\">:</span> <span style=\"background-color:#d6d6ff\">-@@</span> <span style=\"background-color:#ff1919\">easotic</span> <span style=\"background-color:#d6d6ff\">ear</span> <span style=\"background-color:#ececff\">flush</span> <span style=\"background-color:#fffafa\">once</span> <span style=\"background-color:#fffafa\">weekly</span> <span style=\"background-color:#fffafa\">-benadryl</span> <span style=\"background-color:#fefeff\">25</span> <span style=\"background-color:#fff4f4\">mg</span> <span style=\"background-color:#f8f8ff\">:</span> <span style=\"background-color:#fafaff\">2</span> <span style=\"background-color:#fff8f8\">tabs</span> <span style=\"background-color:#fffcfc\">q</span> <span style=\"background-color:#fff6f6\">24</span> <span style=\"background-color:#eaeaff\">hours</span> <span style=\"background-color:#fcfcff\">-chlorpheniramine</span> <span style=\"background-color:#fffcfc\">4</span> <span style=\"background-color:#fffcfc\">mg</span> <span style=\"background-color:#fefeff\">:</span> <span style=\"background-color:#fffafa\">3</span> <span style=\"background-color:#fffefe\">tabs</span> <span style=\"background-color:#fff4f4\">q</span> <span style=\"background-color:#fffcfc\">24</span> <span style=\"background-color:#eeeeff\">hours</span> <span style=\"background-color:#ececff\">-zyrtec</span> <span style=\"background-color:#fffefe\">10</span> <span style=\"background-color:#fcfcff\">mg</span> <span style=\"background-color:#fffefe\">:</span> <span style=\"background-color:#fefeff\">1</span> <span style=\"background-color:#fffcfc\">tab</span> <span style=\"background-color:#fff2f2\">q</span> <span style=\"background-color:#fffafa\">24</span> <span style=\"background-color:#fafaff\">hours</span> <span style=\"background-color:#f0f0ff\">-malaseb</span> <span style=\"background-color:#c2c2ff\">shampoo</span> <span style=\"background-color:#f6f6ff\">bath</span> <span style=\"background-color:#fffafa\">:</span> <span style=\"background-color:#fffefe\">once</span> <span style=\"background-color:#f6f6ff\">weekly</span> <span style=\"background-color:#e6e6ff\">-mal-a-ket</span> <span style=\"background-color:#a2a2ff\">wipes</span> <span style=\"background-color:#fefeff\">:</span> <span style=\"background-color:#fffefe\">muzzle</span> <span style=\"background-color:#fcfcff\">and</span> <span style=\"background-color:#fffcfc\">paws</span> <span style=\"background-color:#fff2f2\">wiped</span> <span style=\"background-color:#ffe0e0\">inconsistently</span> <span style=\"background-color:#ffecec\">-@@</span> <span style=\"background-color:#fcfcff\">resisoothe</span> <span style=\"background-color:#fffcfc\">conditioner</span> <span style=\"background-color:#fefeff\">:</span> <span style=\"background-color:#fffcfc\">once</span> <span style=\"background-color:#fefeff\">weekly</span> <span style=\"background-color:#ffecec\">after</span> <span style=\"background-color:#fcfcff\">bath</span> <span style=\"background-color:#f8f8ff\">-@@</span> <span style=\"background-color:#f8f8ff\">ne@@</span> <span style=\"background-color:#fefeff\">ttles</span> <span style=\"background-color:#fefeff\">:</span> <span style=\"background-color:#fcfcff\">2</span> <span style=\"background-color:#fffcfc\">times</span> <span style=\"background-color:#fffafa\">daily</span> <span style=\"background-color:#ffc8c8\">sprinkled</span> <span style=\"background-color:#fafaff\">on</span> <span style=\"background-color:#fcfcff\">food</span> <span style=\"background-color:#fff0f0\">.</span> <span style=\"background-color:#ffdede\">assessment</span> <span style=\"background-color:#dedeff\">:</span> <span style=\"background-color:#c2c2ff\">deacon</span> <span style=\"background-color:#dedeff\">'s</span> <span style=\"background-color:#fefeff\">recheck</span> <span style=\"background-color:#c2c2ff\">urinalysis</span> <span style=\"background-color:#ffe6e6\">did</span> <span style=\"background-color:#f6f6ff\">not</span> <span style=\"background-color:#eeeeff\">show</span> <span style=\"background-color:#fffefe\">any</span> <span style=\"background-color:#fafaff\">signs</span> <span style=\"background-color:#f6f6ff\">of</span> <span style=\"background-color:#ffdcdc\">crystals</span> <span style=\"background-color:#e8e8ff\">or</span> <span style=\"background-color:#e8e8ff\">other</span> <span style=\"background-color:#fcfcff\">exclusion</span> <span style=\"background-color:#fff8f8\">criteria</span> <span style=\"background-color:#fff8f8\">for</span> <span style=\"background-color:#ffe2e2\">the</span> <span style=\"background-color:#6060ff\">apoquel</span> <span style=\"background-color:#fff6f6\">study</span> <span style=\"background-color:#dadaff\">.</span> <span style=\"background-color:#fffcfc\">the</span> <span style=\"background-color:#7878ff\">apoquel</span> <span style=\"background-color:#fff6f6\">study</span> <span style=\"background-color:#ffdada\">is</span> <span style=\"background-color:#ffe4e4\">looking</span> <span style=\"background-color:#f6f6ff\">the</span> <span style=\"background-color:#8c8cff\">incidence</span> <span style=\"background-color:#f2f2ff\">of</span> <span style=\"background-color:#fcfcff\">urinary</span> <span style=\"background-color:#f2f2ff\">tract</span> <span style=\"background-color:#e8e8ff\">infections</span> <span style=\"background-color:#ffeaea\">in</span> <span style=\"background-color:#fcfcff\">patients</span> <span style=\"background-color:#fff6f6\">who</span> <span style=\"background-color:#fffcfc\">are</span> <span style=\"background-color:#fefeff\">on</span> <span style=\"background-color:#ffeeee\">apoquel</span> <span style=\"background-color:#fffafa\">.</span> <span style=\"background-color:#ffc0c0\">individuals</span> <span style=\"background-color:#ffeeee\">are</span> <span style=\"background-color:#f8f8ff\">evaluated</span> <span style=\"background-color:#ffeeee\">after</span> <span style=\"background-color:#f6f6ff\">being</span> <span style=\"background-color:#fafaff\">on</span> <span style=\"background-color:#fcfcff\">the</span> <span style=\"background-color:#fffefe\">drug</span> <span style=\"background-color:#fcfcff\">for</span> <span style=\"background-color:#fefeff\">6</span> <span style=\"background-color:#fefeff\">months</span> <span style=\"background-color:#fff4f4\">.</span> <span style=\"background-color:#f6f6ff\">we</span> <span style=\"background-color:#f6f6ff\">will</span> <span style=\"background-color:#fff6f6\">start</span> <span style=\"background-color:#ffdada\">deacon</span> <span style=\"background-color:#ffe6e6\">on</span> <span style=\"background-color:#ffcaca\">apoquel</span> <span style=\"background-color:#e0e0ff\">and</span> <span style=\"background-color:#ffd8d8\">continue</span> <span style=\"background-color:#fffafa\">with</span> <span style=\"background-color:#ffe2e2\">maintenance</span> <span style=\"background-color:#ffd3d3\">topical</span> <span style=\"background-color:#fffafa\">therapy</span> <span style=\"background-color:#e8e8ff\">.</span> <span style=\"background-color:#ff9090\">a</span> <span style=\"background-color:#ffa0a0\">recheck</span> <span style=\"background-color:#0000ff\">is</span> <span style=\"background-color:#aeaeff\">needed</span> <span style=\"background-color:#fff0f0\">in</span> <span style=\"background-color:#ffe6e6\">6</span> <span style=\"background-color:#8282ff\">months</span> <span style=\"background-color:#fcfcff\">for</span> <span style=\"background-color:#f8f8ff\">repeat</span> <span style=\"background-color:#fafaff\">urinalysis</span> <span style=\"background-color:#fffafa\">and</span> <span style=\"background-color:#eeeeff\">urine</span> <span style=\"background-color:#f8f8ff\">culture</span> <span style=\"background-color:#fafaff\">.</span> \n"
      ],
      "text/plain": [
       "<IPython.core.display.HTML object>"
      ]
     },
     "metadata": {},
     "output_type": "display_data"
    },
    {
     "name": "stderr",
     "output_type": "stream",
     "text": [
      "/usr/local/lib/python3.6/dist-packages/torch/serialization.py:367: SourceChangeWarning: source code of class 'transformer.LSTMEncoder' has changed. you can retrieve the original source code by accessing the object's source attribute or set `torch.nn.Module.dump_patches = True` and use the patch tool to revert the changes.\n",
      "  warnings.warn(msg, SourceChangeWarning)\n"
     ]
    },
    {
     "name": "stdout",
     "output_type": "stream",
     "text": [
      "logits = tensor([-16.7165, -16.6613, -15.7218, -16.8673, -16.3042, -17.4315,\n",
      "        -11.0038, -11.1158,  -9.9076,  -9.7221, -10.7704,  -9.3859,\n",
      "         -7.8312, -10.5752,  -9.0651,  -7.8931, -10.2982,  -8.1445,\n",
      "         -9.1579,  -9.5837,  -9.1034,  -7.4837,  -7.3437,   7.4584,\n",
      "         -7.8867,  -1.0263,   9.5782,  -5.3957,  -8.1797,  -6.8150,\n",
      "         -5.2576,  -4.8732,  -4.0158,  -6.8626,  -2.1679,  -7.0167,\n",
      "         -4.4482,  -6.1156,   6.9229,  -4.6591,  -3.1277,   6.7496])\n",
      "pred = [23, 26, 38, 41]\n",
      "pred = ['Propensity to adverse reactions (disorder)', 'Hypersensitivity condition (disorder)', 'Disorder of integument (disorder)', 'Clinical finding (finding)']\n",
      "label = [23, 26, 38, 41]\n",
      "label = ['Propensity to adverse reactions (disorder)', 'Hypersensitivity condition (disorder)', 'Disorder of integument (disorder)', 'Clinical finding (finding)']\n"
     ]
    },
    {
     "data": {
      "text/html": [
       "<span style=\"background-color:#fefeff\">deacon</span> <span style=\"background-color:#ececff\">,</span> <span style=\"background-color:#ffc0c0\">a</span> <span style=\"background-color:#ffeeee\">2</span> <span style=\"background-color:#fff4f4\">year</span> <span style=\"background-color:#fffefe\">old</span> <span style=\"background-color:#ffe2e2\">male</span> <span style=\"background-color:#f3f3ff\">neutered</span> <span style=\"background-color:#d2d2ff\">boxer</span> <span style=\"background-color:#e2e2ff\">,</span> <span style=\"background-color:#e6e6ff\">presented</span> <span style=\"background-color:#f3f3ff\">to</span> <span style=\"background-color:#fefeff\">csu</span> <span style=\"background-color:#eaeaff\">dermatology</span> <span style=\"background-color:#eeeeff\">service</span> <span style=\"background-color:#ffeeee\">for</span> <span style=\"background-color:#fff4f4\">a</span> <span style=\"background-color:#ffeaea\">recheck</span> <span style=\"background-color:#c2c2ff\">of</span> <span style=\"background-color:#0000ff\">allergic</span> <span style=\"background-color:#fffefe\">dermatitis</span> <span style=\"background-color:#9090ff\">.</span> <span style=\"background-color:#f8f8ff\">it</span> <span style=\"background-color:#fefeff\">was</span> <span style=\"background-color:#f6f6ff\">reported</span> <span style=\"background-color:#ffeaea\">that</span> <span style=\"background-color:#fff6f6\">deacon</span> <span style=\"background-color:#fafaff\">'s</span> <span style=\"background-color:#fff2f2\">pruritus</span> <span style=\"background-color:#fff4f4\">is</span> <span style=\"background-color:#ffeaea\">relatively</span> <span style=\"background-color:#fcfcff\">seasonal</span> <span style=\"background-color:#f3f3ff\">,</span> <span style=\"background-color:#fffefe\">worse</span> <span style=\"background-color:#fefeff\">in</span> <span style=\"background-color:#fefeff\">the</span> <span style=\"background-color:#fffafa\">spring</span> <span style=\"background-color:#fefeff\">and</span> <span style=\"background-color:#fffefe\">summer</span> <span style=\"background-color:#fafaff\">,</span> <span style=\"background-color:#fffcfc\">but</span> <span style=\"background-color:#fffafa\">does</span> <span style=\"background-color:#fff6f6\">not</span> <span style=\"background-color:#fffcfc\">completely</span> <span style=\"background-color:#fefeff\">go</span> <span style=\"background-color:#fafaff\">away</span> <span style=\"background-color:#f6f6ff\">in</span> <span style=\"background-color:#fffefe\">the</span> <span style=\"background-color:#fffcfc\">winter</span> <span style=\"background-color:#f3f3ff\">.</span> <span style=\"background-color:#fff6f6\">deacon</span> <span style=\"background-color:#e6e6ff\">'s</span> <span style=\"background-color:#f2f2ff\">main</span> <span style=\"background-color:#fff8f8\">problem</span> <span style=\"background-color:#ffdede\">areas</span> <span style=\"background-color:#fffefe\">were</span> <span style=\"background-color:#fffafa\">his</span> <span style=\"background-color:#ffdcdc\">paws</span> <span style=\"background-color:#ececff\">and</span> <span style=\"background-color:#fefeff\">his</span> <span style=\"background-color:#fafaff\">muzzle</span> <span style=\"background-color:#b3b3ff\">.</span> <span style=\"background-color:#ccccff\">melissa</span> <span style=\"background-color:#fff2f2\">recently</span> <span style=\"background-color:#fafaff\">had</span> <span style=\"background-color:#fcfcff\">been</span> <span style=\"background-color:#fafaff\">adding</span> <span style=\"background-color:#fffefe\">ne@@</span> <span style=\"background-color:#fffefe\">ttles</span> <span style=\"background-color:#fffcfc\">to</span> <span style=\"background-color:#fefeff\">deacon</span> <span style=\"background-color:#fffcfc\">'s</span> <span style=\"background-color:#fffafa\">food</span> <span style=\"background-color:#fffafa\">and</span> <span style=\"background-color:#fff8f8\">saw</span> <span style=\"background-color:#fffefe\">a</span> <span style=\"background-color:#fffcfc\">noticeable</span> <span style=\"background-color:#fffefe\">decrease</span> <span style=\"background-color:#fefeff\">in</span> <span style=\"background-color:#fff8f8\">pruritus</span> <span style=\"background-color:#fffcfc\">for</span> <span style=\"background-color:#fcfcff\">a</span> <span style=\"background-color:#fafaff\">few</span> <span style=\"background-color:#fffefe\">days</span> <span style=\"background-color:#fffefe\">but</span> <span style=\"background-color:#fcfcff\">not</span> <span style=\"background-color:#fafaff\">so</span> <span style=\"background-color:#fffcfc\">much</span> <span style=\"background-color:#f8f8ff\">anymore</span> <span style=\"background-color:#f6f6ff\">.</span> <span style=\"background-color:#c2c2ff\">melissa</span> <span style=\"background-color:#fffefe\">was</span> <span style=\"background-color:#fefeff\">not</span> <span style=\"background-color:#f6f6ff\">interested</span> <span style=\"background-color:#fcfcff\">in</span> <span style=\"background-color:#eeeeff\">steroids</span> <span style=\"background-color:#fff6f6\">or</span> <span style=\"background-color:#dcdcff\">immunotherapy</span> <span style=\"background-color:#fefeff\">to</span> <span style=\"background-color:#fffafa\">control</span> <span style=\"background-color:#fff2f2\">the</span> <span style=\"background-color:#fff8f8\">pruritus</span> <span style=\"background-color:#fafaff\">and</span> <span style=\"background-color:#ffdede\">was</span> <span style=\"background-color:#f8f8ff\">hoping</span> <span style=\"background-color:#fff6f6\">to</span> <span style=\"background-color:#ffe8e8\">start</span> <span style=\"background-color:#e2e2ff\">apoquel</span> <span style=\"background-color:#fff4f4\">for</span> <span style=\"background-color:#fffefe\">deacon</span> <span style=\"background-color:#f3f3ff\">.</span> <span style=\"background-color:#fcfcff\">current</span> <span style=\"background-color:#f2f2ff\">medications</span> <span style=\"background-color:#f2f2ff\">:</span> <span style=\"background-color:#f6f6ff\">-@@</span> <span style=\"background-color:#fafaff\">easotic</span> <span style=\"background-color:#eaeaff\">ear</span> <span style=\"background-color:#fffcfc\">flush</span> <span style=\"background-color:#fcfcff\">once</span> <span style=\"background-color:#fffafa\">weekly</span> <span style=\"background-color:#fff6f6\">-benadryl</span> <span style=\"background-color:#ffe6e6\">25</span> <span style=\"background-color:#fefeff\">mg</span> <span style=\"background-color:#fffafa\">:</span> <span style=\"background-color:#ffe2e2\">2</span> <span style=\"background-color:#f2f2ff\">tabs</span> <span style=\"background-color:#fff4f4\">q</span> <span style=\"background-color:#f8f8ff\">24</span> <span style=\"background-color:#fffafa\">hours</span> <span style=\"background-color:#f8f8ff\">-chlorpheniramine</span> <span style=\"background-color:#fefeff\">4</span> <span style=\"background-color:#fff2f2\">mg</span> <span style=\"background-color:#fffefe\">:</span> <span style=\"background-color:#f0f0ff\">3</span> <span style=\"background-color:#f2f2ff\">tabs</span> <span style=\"background-color:#fff8f8\">q</span> <span style=\"background-color:#fafaff\">24</span> <span style=\"background-color:#fffefe\">hours</span> <span style=\"background-color:#fcfcff\">-zyrtec</span> <span style=\"background-color:#eeeeff\">10</span> <span style=\"background-color:#fffcfc\">mg</span> <span style=\"background-color:#ffe8e8\">:</span> <span style=\"background-color:#fafaff\">1</span> <span style=\"background-color:#fff6f6\">tab</span> <span style=\"background-color:#fffefe\">q</span> <span style=\"background-color:#fcfcff\">24</span> <span style=\"background-color:#fff8f8\">hours</span> <span style=\"background-color:#f8f8ff\">-malaseb</span> <span style=\"background-color:#f8f8ff\">shampoo</span> <span style=\"background-color:#e3e3ff\">bath</span> <span style=\"background-color:#fff6f6\">:</span> <span style=\"background-color:#f0f0ff\">once</span> <span style=\"background-color:#f2f2ff\">weekly</span> <span style=\"background-color:#fefeff\">-mal-a-ket</span> <span style=\"background-color:#fffafa\">wipes</span> <span style=\"background-color:#fff2f2\">:</span> <span style=\"background-color:#fff0f0\">muzzle</span> <span style=\"background-color:#fefeff\">and</span> <span style=\"background-color:#ffecec\">paws</span> <span style=\"background-color:#fcfcff\">wiped</span> <span style=\"background-color:#fff6f6\">inconsistently</span> <span style=\"background-color:#ffecec\">-@@</span> <span style=\"background-color:#fefeff\">resisoothe</span> <span style=\"background-color:#fff4f4\">conditioner</span> <span style=\"background-color:#fffcfc\">:</span> <span style=\"background-color:#fff8f8\">once</span> <span style=\"background-color:#fffafa\">weekly</span> <span style=\"background-color:#ffeeee\">after</span> <span style=\"background-color:#fffcfc\">bath</span> <span style=\"background-color:#fffefe\">-@@</span> <span style=\"background-color:#f2f2ff\">ne@@</span> <span style=\"background-color:#fffcfc\">ttles</span> <span style=\"background-color:#f2f2ff\">:</span> <span style=\"background-color:#fafaff\">2</span> <span style=\"background-color:#fffafa\">times</span> <span style=\"background-color:#fefeff\">daily</span> <span style=\"background-color:#eeeeff\">sprinkled</span> <span style=\"background-color:#f8f8ff\">on</span> <span style=\"background-color:#fafaff\">food</span> <span style=\"background-color:#fcfcff\">.</span> <span style=\"background-color:#f6f6ff\">assessment</span> <span style=\"background-color:#fafaff\">:</span> <span style=\"background-color:#fff8f8\">deacon</span> <span style=\"background-color:#fff4f4\">'s</span> <span style=\"background-color:#fff0f0\">recheck</span> <span style=\"background-color:#e6e6ff\">urinalysis</span> <span style=\"background-color:#ffeaea\">did</span> <span style=\"background-color:#fafaff\">not</span> <span style=\"background-color:#fff6f6\">show</span> <span style=\"background-color:#fffefe\">any</span> <span style=\"background-color:#fffafa\">signs</span> <span style=\"background-color:#fffefe\">of</span> <span style=\"background-color:#fff0f0\">crystals</span> <span style=\"background-color:#fefeff\">or</span> <span style=\"background-color:#fefeff\">other</span> <span style=\"background-color:#fff8f8\">exclusion</span> <span style=\"background-color:#ffecec\">criteria</span> <span style=\"background-color:#f8f8ff\">for</span> <span style=\"background-color:#fafaff\">the</span> <span style=\"background-color:#ffd3d3\">apoquel</span> <span style=\"background-color:#f6f6ff\">study</span> <span style=\"background-color:#ffe8e8\">.</span> <span style=\"background-color:#fffcfc\">the</span> <span style=\"background-color:#ff8a8a\">apoquel</span> <span style=\"background-color:#e6e6ff\">study</span> <span style=\"background-color:#fafaff\">is</span> <span style=\"background-color:#fffcfc\">looking</span> <span style=\"background-color:#f6f6ff\">the</span> <span style=\"background-color:#fff8f8\">incidence</span> <span style=\"background-color:#fff6f6\">of</span> <span style=\"background-color:#fffafa\">urinary</span> <span style=\"background-color:#f3f3ff\">tract</span> <span style=\"background-color:#ffdede\">infections</span> <span style=\"background-color:#e8e8ff\">in</span> <span style=\"background-color:#ffe6e6\">patients</span> <span style=\"background-color:#e0e0ff\">who</span> <span style=\"background-color:#fafaff\">are</span> <span style=\"background-color:#ececff\">on</span> <span style=\"background-color:#ffc0c0\">apoquel</span> <span style=\"background-color:#fffcfc\">.</span> <span style=\"background-color:#dedeff\">individuals</span> <span style=\"background-color:#a8a8ff\">are</span> <span style=\"background-color:#ffe8e8\">evaluated</span> <span style=\"background-color:#fafaff\">after</span> <span style=\"background-color:#fffafa\">being</span> <span style=\"background-color:#fffefe\">on</span> <span style=\"background-color:#eeeeff\">the</span> <span style=\"background-color:#ffeaea\">drug</span> <span style=\"background-color:#fffafa\">for</span> <span style=\"background-color:#fcfcff\">6</span> <span style=\"background-color:#fffcfc\">months</span> <span style=\"background-color:#f6f6ff\">.</span> <span style=\"background-color:#fefeff\">we</span> <span style=\"background-color:#e6e6ff\">will</span> <span style=\"background-color:#fcfcff\">start</span> <span style=\"background-color:#fcfcff\">deacon</span> <span style=\"background-color:#e6e6ff\">on</span> <span style=\"background-color:#ff9090\">apoquel</span> <span style=\"background-color:#e8e8ff\">and</span> <span style=\"background-color:#fff8f8\">continue</span> <span style=\"background-color:#fff2f2\">with</span> <span style=\"background-color:#f6f6ff\">maintenance</span> <span style=\"background-color:#fcfcff\">topical</span> <span style=\"background-color:#fafaff\">therapy</span> <span style=\"background-color:#fffafa\">.</span> <span style=\"background-color:#ffcaca\">a</span> <span style=\"background-color:#d0d0ff\">recheck</span> <span style=\"background-color:#f2f2ff\">is</span> <span style=\"background-color:#ececff\">needed</span> <span style=\"background-color:#e6e6ff\">in</span> <span style=\"background-color:#d0d0ff\">6</span> <span style=\"background-color:#f0f0ff\">months</span> <span style=\"background-color:#ffecec\">for</span> <span style=\"background-color:#fff4f4\">repeat</span> <span style=\"background-color:#ff7878\">urinalysis</span> <span style=\"background-color:#ffd6d6\">and</span> <span style=\"background-color:#fffefe\">urine</span> <span style=\"background-color:#9c9cff\">culture</span> <span style=\"background-color:#1212ff\">.</span> \n"
      ],
      "text/plain": [
       "<IPython.core.display.HTML object>"
      ]
     },
     "metadata": {},
     "output_type": "display_data"
    }
   ],
   "source": [
    "interpret_transformer(47, 26, silent=False)\n",
    "interpret_lstm(47, 26, silent=False)"
   ]
  },
  {
   "cell_type": "code",
   "execution_count": null,
   "metadata": {},
   "outputs": [],
   "source": []
  }
 ],
 "metadata": {
  "kernelspec": {
   "display_name": "Python 3",
   "language": "python",
   "name": "python3"
  },
  "language_info": {
   "codemirror_mode": {
    "name": "ipython",
    "version": 3
   },
   "file_extension": ".py",
   "mimetype": "text/x-python",
   "name": "python",
   "nbconvert_exporter": "python",
   "pygments_lexer": "ipython3",
   "version": "3.6.6"
  }
 },
 "nbformat": 4,
 "nbformat_minor": 2
}
