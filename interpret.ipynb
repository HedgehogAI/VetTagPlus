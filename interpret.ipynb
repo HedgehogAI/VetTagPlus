{
 "cells": [
  {
   "cell_type": "code",
   "execution_count": 2,
   "metadata": {},
   "outputs": [],
   "source": [
    "import torch\n",
    "import torch.nn as nn\n",
    "from torch.autograd import Variable\n",
    "from transformer import *\n",
    "from util import *\n",
    "from data import *\n",
    "import matplotlib.pyplot as plt\n",
    "from heatmap import html_heatmap\n",
    "from IPython.display import display, HTML"
   ]
  },
  {
   "cell_type": "code",
   "execution_count": 3,
   "metadata": {},
   "outputs": [],
   "source": [
    "train, valid, test = get_dis('/home/yuhuiz/Transformer/data/csu/', 'csu_bpe', 'csu', 600, False)\n",
    "text_encoder = TextEncoder('/home/yuhuiz/Transformer/data/sage/encoder_bpe_50000.json', '/home/yuhuiz/Transformer/data/sage/vocab_50000.bpe')\n",
    "encoder = text_encoder.encoder\n",
    "encoder['_pad_'] = len(encoder)\n",
    "encoder['_start_'] = len(encoder)\n",
    "encoder['_end_'] = len(encoder)\n",
    "encoder['_unk_'] = len(encoder)\n",
    "decoder = {v: k for k, v in encoder.items()}\n",
    "\n",
    "for split in ['s1']:\n",
    "    for data_type in ['train', 'valid', 'test']:\n",
    "        num_sents = []\n",
    "        y_sents = []\n",
    "        for sent in eval(data_type)[split]:\n",
    "            num_sent = text_encoder.encode([sent], lazy=True, bpe=False)[0]\n",
    "            num_sents.append([encoder['_start_']] + num_sent + [encoder['_end_']])\n",
    "        eval(data_type)[split] = np.array(num_sents)"
   ]
  },
  {
   "cell_type": "code",
   "execution_count": 11,
   "metadata": {},
   "outputs": [],
   "source": [
    "# good example [(16, 39), (47, 26), (21, 38), (21, 40), ]\n",
    "def interpret_transformer(sample_idx, label_idx, silent=True, threshold=None):\n",
    "    # model\n",
    "    model = torch.load('/home/yuhuiz/Transformer/exp/bpe/transformer_auxiliary_pretrain/model-8.pickle', map_location='cpu')\n",
    "    model.eval()\n",
    "\n",
    "    s1 = test['s1'] # test or valid\n",
    "    target = test['label'] # test or valid\n",
    "\n",
    "    # data\n",
    "    s1_batch = pad_batch(s1[sample_idx:sample_idx+1], encoder['_pad_'])\n",
    "    label_batch = target[sample_idx:sample_idx+1]\n",
    "    b = Batch(s1_batch, label_batch, [], encoder['_pad_'])\n",
    "\n",
    "    # interpret\n",
    "    x = model.tgt_embed[0](b.s1)\n",
    "    xx = model.tgt_embed[1](x)\n",
    "    u_h = model.decoder(xx, b.s1_mask)\n",
    "    u = model.pick_h(u_h, b.s1_lengths)\n",
    "    picked_s1_mask = model.pick_mask(b.s1_mask, b.s1_lengths)\n",
    "    u = model.projection_layer(u, u_h, u_h, picked_s1_mask)\n",
    "    clf_output = model.classifier(u)\n",
    "    pred = (torch.sigmoid(clf_output) > 0.5)\n",
    "    y = clf_output[0][label_idx]\n",
    "    model.zero_grad()\n",
    "    grad = x * torch.autograd.grad(y, x)[0]\n",
    "\n",
    "    # visualize\n",
    "    grad = grad.sum(-1).data.squeeze().numpy()\n",
    "    if threshold != None:\n",
    "        grad = grad * (grad > threshold)\n",
    "    grad = grad.tolist()\n",
    "    \n",
    "    text_id = b.s1.squeeze().numpy().tolist()\n",
    "    text = [decoder[i] for i in text_id]\n",
    "    label = get_labels('csu')\n",
    "    if not silent:\n",
    "        print('logits =', clf_output.squeeze())\n",
    "        print('pred =', pred.squeeze().nonzero().squeeze().numpy().tolist())\n",
    "        print('pred =', [label[i] for i in pred.squeeze().nonzero().squeeze().numpy().tolist()])\n",
    "        print('label =', b.label.squeeze().nonzero().squeeze().numpy().tolist())\n",
    "        print('label =', [label[i] for i in b.label.squeeze().nonzero().squeeze().numpy().tolist()])\n",
    "    display(HTML(html_heatmap(text[1:], grad[1:])))"
   ]
  },
  {
   "cell_type": "code",
   "execution_count": 4,
   "metadata": {},
   "outputs": [],
   "source": [
    "def interpret_lstm(sample_idx, label_idx, silent=True):\n",
    "    # model\n",
    "    model = torch.load('/home/yuhuiz/Transformer/exp/bpe/lstm_auxiliary_pretrain/model-8.pickle', map_location='cpu')\n",
    "    model.eval()\n",
    "\n",
    "    s1 = test['s1'] # test or valid\n",
    "    target = test['label'] # test or valid\n",
    "\n",
    "    # data\n",
    "    s1_batch = pad_batch(s1[sample_idx:sample_idx+1], encoder['_pad_'])\n",
    "    label_batch = target[sample_idx:sample_idx+1]\n",
    "    b = Batch(s1_batch, label_batch, [], encoder['_pad_'])\n",
    "\n",
    "    # interpret\n",
    "    x = model.tgt_embed[0](b.s1)\n",
    "    xx = model.tgt_embed[1](x)\n",
    "    u_h = model.autolen_rnn(xx, b.s1_lengths)\n",
    "    u = model.pick_h(u_h, b.s1_lengths)\n",
    "    picked_s1_mask = model.pick_mask(b.s1_mask, b.s1_lengths)\n",
    "    u = model.projection_layer(u, u_h, u_h, picked_s1_mask)\n",
    "    clf_output = model.classifier(u)\n",
    "    pred = (torch.sigmoid(clf_output) > 0.5)\n",
    "    y = clf_output[0][label_idx]\n",
    "    model.zero_grad()\n",
    "    grad = x * torch.autograd.grad(y, x)[0]\n",
    "\n",
    "    # visualize\n",
    "    grad = grad.sum(-1).data.squeeze().numpy().tolist()\n",
    "    text_id = b.s1.squeeze().numpy().tolist()\n",
    "    text = [decoder[i] for i in text_id]\n",
    "    label = get_labels('csu')\n",
    "    if not silent:\n",
    "        print('logits =', clf_output.squeeze())\n",
    "        print('pred =', pred.squeeze().nonzero().squeeze().numpy().tolist())\n",
    "        print('pred =', [label[i] for i in pred.squeeze().nonzero().squeeze().numpy().tolist()])\n",
    "        print('label =', b.label.squeeze().nonzero().squeeze().numpy().tolist())\n",
    "        print('label =', [label[i] for i in b.label.squeeze().nonzero().squeeze().numpy().tolist()])\n",
    "    display(HTML(html_heatmap(text[1:], grad[1:])))"
   ]
  },
  {
   "cell_type": "code",
   "execution_count": 30,
   "metadata": {
    "scrolled": false
   },
   "outputs": [
    {
     "name": "stderr",
     "output_type": "stream",
     "text": [
      "/usr/local/lib/python3.6/dist-packages/torch/serialization.py:367: SourceChangeWarning: source code of class 'transformer.DisSentT' has changed. you can retrieve the original source code by accessing the object's source attribute or set `torch.nn.Module.dump_patches = True` and use the patch tool to revert the changes.\n",
      "  warnings.warn(msg, SourceChangeWarning)\n",
      "/usr/local/lib/python3.6/dist-packages/torch/serialization.py:367: SourceChangeWarning: source code of class 'transformer.Embeddings' has changed. you can retrieve the original source code by accessing the object's source attribute or set `torch.nn.Module.dump_patches = True` and use the patch tool to revert the changes.\n",
      "  warnings.warn(msg, SourceChangeWarning)\n"
     ]
    },
    {
     "name": "stdout",
     "output_type": "stream",
     "text": [
      "logits = tensor([-21.3143, -25.2147, -29.8355, -24.4539, -24.8130, -22.6674,\n",
      "        -27.4273, -23.7908,  -9.7768, -17.0644, -18.7451, -13.3065,\n",
      "        -11.5323, -14.0741, -16.4290, -16.0483, -10.5599, -10.9031,\n",
      "         -8.1654,  -3.0968,  -5.1971,  -6.2017, -12.4415,  -1.8935,\n",
      "         -9.1356, -11.2041,  -2.9586,  -4.3047, -11.0542,  -6.8276,\n",
      "         -4.0453,  -3.7381,   7.9594, -10.4458,  -0.2958,  -9.0764,\n",
      "         -2.1545,  -3.0684,   6.3305,  -5.4667,   4.2302,   4.9700])\n",
      "pred = [32, 38, 40, 41]\n",
      "pred = ['Traumatic AND/OR non-traumatic injury (disorder)', 'Disorder of integument (disorder)', 'Neoplasm and/or hamartoma (disorder)', 'Clinical finding (finding)']\n",
      "label = [40, 41]\n",
      "label = ['Neoplasm and/or hamartoma (disorder)', 'Clinical finding (finding)']\n"
     ]
    },
    {
     "data": {
      "text/html": [
       "<span style=\"background-color:#fff2f2\">jetice</span> <span style=\"background-color:#fffcfc\">,</span> <span style=\"background-color:#fffafa\">an</span> <span style=\"background-color:#d2d2ff\">11yo</span> <span style=\"background-color:#fffefe\">fs</span> <span style=\"background-color:#fcfcff\">cocker</span> <span style=\"background-color:#fefeff\">spaniel</span> <span style=\"background-color:#fff8f8\">,</span> <span style=\"background-color:#f2f2ff\">presented</span> <span style=\"background-color:#fcfcff\">to</span> <span style=\"background-color:#fefeff\">the</span> <span style=\"background-color:#f6f6ff\">csu</span> <span style=\"background-color:#eeeeff\">urgent</span> <span style=\"background-color:#fefeff\">care</span> <span style=\"background-color:#ffe4e4\">service</span> <span style=\"background-color:#fffafa\">last</span> <span style=\"background-color:#ffdcdc\">monday</span> <span style=\"background-color:#f3f3ff\">for</span> <span style=\"background-color:#fffefe\">consultation</span> <span style=\"background-color:#f8f8ff\">regarding</span> <span style=\"background-color:#fff4f4\">a</span> <span style=\"background-color:#ffe8e8\">fractured</span> <span style=\"background-color:#fffafa\">,</span> <span style=\"background-color:#f3f3ff\">bleeding</span> <span style=\"background-color:#bebeff\">toenail</span> <span style=\"background-color:#fffafa\">.</span> <span style=\"background-color:#fff8f8\">no</span> <span style=\"background-color:#fffefe\">discomfort</span> <span style=\"background-color:#fff8f8\">or</span> <span style=\"background-color:#eaeaff\">lameness</span> <span style=\"background-color:#fffefe\">were</span> <span style=\"background-color:#fffafa\">noted</span> <span style=\"background-color:#fffefe\">by</span> <span style=\"background-color:#fefeff\">her</span> <span style=\"background-color:#fff4f4\">owners</span> <span style=\"background-color:#fffcfc\">prior</span> <span style=\"background-color:#fcfcff\">to</span> <span style=\"background-color:#fafaff\">the</span> <span style=\"background-color:#fffcfc\">onset</span> <span style=\"background-color:#fff8f8\">of</span> <span style=\"background-color:#fafaff\">bleeding</span> <span style=\"background-color:#ffdada\">.</span> <span style=\"background-color:#ffc6c6\">radiographs</span> <span style=\"background-color:#fffefe\">of</span> <span style=\"background-color:#f3f3ff\">the</span> <span style=\"background-color:#f8f8ff\">foot</span> <span style=\"background-color:#fefeff\">indicated</span> <span style=\"background-color:#ffe4e4\">osteolysis</span> <span style=\"background-color:#fefeff\">and</span> <span style=\"background-color:#fffafa\">associated</span> <span style=\"background-color:#ffd2d2\">soft</span> <span style=\"background-color:#fffafa\">tissue</span> <span style=\"background-color:#fcfcff\">swelling</span> <span style=\"background-color:#fff0f0\">of</span> <span style=\"background-color:#fcfcff\">the</span> <span style=\"background-color:#ffe2e2\">middle</span> <span style=\"background-color:#f8f8ff\">and</span> <span style=\"background-color:#fff4f4\">distal</span> <span style=\"background-color:#ffeaea\">phalanges</span> <span style=\"background-color:#ffe8e8\">of</span> <span style=\"background-color:#ffc2c2\">digit</span> <span style=\"background-color:#a6a6ff\">v.</span> <span style=\"background-color:#ececff\">cytology</span> <span style=\"background-color:#f0f0ff\">performed</span> <span style=\"background-color:#fffcfc\">on</span> <span style=\"background-color:#ffeaea\">a</span> <span style=\"background-color:#ffe6e6\">bleeding</span> <span style=\"background-color:#ffdede\">ulcerated</span> <span style=\"background-color:#ffeeee\">mass</span> <span style=\"background-color:#ffd6d6\">discovered</span> <span style=\"background-color:#ccccff\">surrounding</span> <span style=\"background-color:#f6f6ff\">the</span> <span style=\"background-color:#dcdcff\">nail</span> <span style=\"background-color:#fff6f6\">bed</span> <span style=\"background-color:#b2b2ff\">of</span> <span style=\"background-color:#0000ff\">digit</span> <span style=\"background-color:#f3f3ff\">v</span> <span style=\"background-color:#fffefe\">of</span> <span style=\"background-color:#fcfcff\">the</span> <span style=\"background-color:#fefeff\">right</span> <span style=\"background-color:#fcfcff\">thoracic</span> <span style=\"background-color:#fffafa\">limb</span> <span style=\"background-color:#fffcfc\">was</span> <span style=\"background-color:#fafaff\">consistent</span> <span style=\"background-color:#fffcfc\">with</span> <span style=\"background-color:#f8f8ff\">squamous</span> <span style=\"background-color:#fcfcff\">cell</span> <span style=\"background-color:#fff2f2\">carcinoma</span> <span style=\"background-color:#fefeff\">.</span> <span style=\"background-color:#fffcfc\">jetice</span> <span style=\"background-color:#fefeff\">was</span> <span style=\"background-color:#fefeff\">discharged</span> <span style=\"background-color:#fefeff\">with</span> <span style=\"background-color:#fefeff\">tramadol</span> <span style=\"background-color:#fefeff\">and</span> <span style=\"background-color:#fefeff\">clavamox</span> <span style=\"background-color:#fffcfc\">.</span> <span style=\"background-color:#fffefe\">jetice</span> <span style=\"background-color:#fcfcff\">has</span> <span style=\"background-color:#fffefe\">a</span> <span style=\"background-color:#fefeff\">past</span> <span style=\"background-color:#fffcfc\">history</span> <span style=\"background-color:#fffefe\">of</span> <span style=\"background-color:#fff8f8\">kcs</span> <span style=\"background-color:#fffefe\">,</span> <span style=\"background-color:#fffcfc\">and</span> <span style=\"background-color:#fffafa\">a</span> <span style=\"background-color:#fffafa\">heart</span> <span style=\"background-color:#fffafa\">murmur</span> <span style=\"background-color:#fffefe\">and</span> <span style=\"background-color:#fffcfc\">hypertension</span> <span style=\"background-color:#fffcfc\">secondary</span> <span style=\"background-color:#fffcfc\">to</span> <span style=\"background-color:#fffafa\">left</span> <span style=\"background-color:#fff6f6\">ventricular</span> <span style=\"background-color:#fffcfc\">outflow</span> <span style=\"background-color:#fffafa\">obstruction</span> <span style=\"background-color:#ffeaea\">.</span> <span style=\"background-color:#ffeaea\">assessment</span> <span style=\"background-color:#ffe4e4\">:</span> <span style=\"background-color:#dadaff\">squamous</span> <span style=\"background-color:#fffefe\">cell</span> <span style=\"background-color:#c3c3ff\">carcinoma</span> <span style=\"background-color:#acacff\">digit</span> <span style=\"background-color:#f2f2ff\">v</span> <span style=\"background-color:#f3f3ff\">right</span> <span style=\"background-color:#ffecec\">thoracic</span> <span style=\"background-color:#ffecec\">limb</span> \n"
      ],
      "text/plain": [
       "<IPython.core.display.HTML object>"
      ]
     },
     "metadata": {},
     "output_type": "display_data"
    }
   ],
   "source": [
    "# [9]\n",
    "interpret_transformer(9, 40, silent=False, threshold=None)\n",
    "# interpret_lstm(47, 26, silent=False)"
   ]
  },
  {
   "cell_type": "code",
   "execution_count": null,
   "metadata": {},
   "outputs": [],
   "source": []
  }
 ],
 "metadata": {
  "kernelspec": {
   "display_name": "Python 3",
   "language": "python",
   "name": "python3"
  },
  "language_info": {
   "codemirror_mode": {
    "name": "ipython",
    "version": 3
   },
   "file_extension": ".py",
   "mimetype": "text/x-python",
   "name": "python",
   "nbconvert_exporter": "python",
   "pygments_lexer": "ipython3",
   "version": "3.6.6"
  }
 },
 "nbformat": 4,
 "nbformat_minor": 2
}
